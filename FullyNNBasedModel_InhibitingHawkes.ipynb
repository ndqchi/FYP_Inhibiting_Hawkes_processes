{
  "cells": [
    {
      "cell_type": "markdown",
      "metadata": {
        "id": "hqNg5SBi1Q1d"
      },
      "source": [
        "# **Keras implementation of the proposed model**\n",
        "This note implements the fully NN based model with self-inhibiting Hawkes process."
      ]
    },
    {
      "cell_type": "markdown",
      "metadata": {
        "id": "j6FRcxnr1wfQ"
      },
      "source": [
        "# **Import Modules**"
      ]
    },
    {
      "cell_type": "code",
      "execution_count": 1,
      "metadata": {
        "id": "gYoDLjpMLiY_",
        "colab": {
          "base_uri": "https://localhost:8080/",
          "height": 1000
        },
        "outputId": "17a43898-8d4d-4831-bf59-f26f72519a9a"
      },
      "outputs": [
        {
          "output_type": "stream",
          "name": "stdout",
          "text": [
            "Looking in indexes: https://pypi.org/simple, https://us-python.pkg.dev/colab-wheels/public/simple/\n",
            "Collecting numpy==1.19\n",
            "  Downloading numpy-1.19.0-cp37-cp37m-manylinux2010_x86_64.whl (14.6 MB)\n",
            "\u001b[K     |████████████████████████████████| 14.6 MB 27.7 MB/s \n",
            "\u001b[?25hInstalling collected packages: numpy\n",
            "  Attempting uninstall: numpy\n",
            "    Found existing installation: numpy 1.21.6\n",
            "    Uninstalling numpy-1.21.6:\n",
            "      Successfully uninstalled numpy-1.21.6\n",
            "\u001b[31mERROR: pip's dependency resolver does not currently take into account all the packages that are installed. This behaviour is the source of the following dependency conflicts.\n",
            "xarray-einstats 0.2.2 requires numpy>=1.21, but you have numpy 1.19.0 which is incompatible.\n",
            "tensorflow 2.9.2 requires numpy>=1.20, but you have numpy 1.19.0 which is incompatible.\n",
            "jaxlib 0.3.22+cuda11.cudnn805 requires numpy>=1.20, but you have numpy 1.19.0 which is incompatible.\n",
            "jax 0.3.23 requires numpy>=1.20, but you have numpy 1.19.0 which is incompatible.\n",
            "cupy-cuda11x 11.0.0 requires numpy<1.26,>=1.20, but you have numpy 1.19.0 which is incompatible.\n",
            "cmdstanpy 1.0.8 requires numpy>=1.21, but you have numpy 1.19.0 which is incompatible.\u001b[0m\n",
            "Successfully installed numpy-1.19.0\n"
          ]
        },
        {
          "output_type": "display_data",
          "data": {
            "application/vnd.colab-display-data+json": {
              "pip_warning": {
                "packages": [
                  "numpy"
                ]
              }
            }
          },
          "metadata": {}
        },
        {
          "output_type": "stream",
          "name": "stdout",
          "text": [
            "Looking in indexes: https://pypi.org/simple, https://us-python.pkg.dev/colab-wheels/public/simple/\n",
            "Collecting tensorflow==2.1\n",
            "  Downloading tensorflow-2.1.0-cp37-cp37m-manylinux2010_x86_64.whl (421.8 MB)\n",
            "\u001b[K     |████████████████████████████████| 421.8 MB 25 kB/s \n",
            "\u001b[?25hCollecting keras-applications>=1.0.8\n",
            "  Downloading Keras_Applications-1.0.8-py3-none-any.whl (50 kB)\n",
            "\u001b[K     |████████████████████████████████| 50 kB 8.6 MB/s \n",
            "\u001b[?25hCollecting tensorboard<2.2.0,>=2.1.0\n",
            "  Downloading tensorboard-2.1.1-py3-none-any.whl (3.8 MB)\n",
            "\u001b[K     |████████████████████████████████| 3.8 MB 66.7 MB/s \n",
            "\u001b[?25hRequirement already satisfied: numpy<2.0,>=1.16.0 in /usr/local/lib/python3.7/dist-packages (from tensorflow==2.1) (1.19.0)\n",
            "Requirement already satisfied: wrapt>=1.11.1 in /usr/local/lib/python3.7/dist-packages (from tensorflow==2.1) (1.14.1)\n",
            "Requirement already satisfied: keras-preprocessing>=1.1.0 in /usr/local/lib/python3.7/dist-packages (from tensorflow==2.1) (1.1.2)\n",
            "Requirement already satisfied: protobuf>=3.8.0 in /usr/local/lib/python3.7/dist-packages (from tensorflow==2.1) (3.19.6)\n",
            "Collecting tensorflow-estimator<2.2.0,>=2.1.0rc0\n",
            "  Downloading tensorflow_estimator-2.1.0-py2.py3-none-any.whl (448 kB)\n",
            "\u001b[K     |████████████████████████████████| 448 kB 73.9 MB/s \n",
            "\u001b[?25hCollecting gast==0.2.2\n",
            "  Downloading gast-0.2.2.tar.gz (10 kB)\n",
            "Requirement already satisfied: termcolor>=1.1.0 in /usr/local/lib/python3.7/dist-packages (from tensorflow==2.1) (2.1.0)\n",
            "Requirement already satisfied: six>=1.12.0 in /usr/local/lib/python3.7/dist-packages (from tensorflow==2.1) (1.15.0)\n",
            "Requirement already satisfied: absl-py>=0.7.0 in /usr/local/lib/python3.7/dist-packages (from tensorflow==2.1) (1.3.0)\n",
            "Requirement already satisfied: grpcio>=1.8.6 in /usr/local/lib/python3.7/dist-packages (from tensorflow==2.1) (1.50.0)\n",
            "Requirement already satisfied: wheel>=0.26 in /usr/local/lib/python3.7/dist-packages (from tensorflow==2.1) (0.38.3)\n",
            "Collecting scipy==1.4.1\n",
            "  Downloading scipy-1.4.1-cp37-cp37m-manylinux1_x86_64.whl (26.1 MB)\n",
            "\u001b[K     |████████████████████████████████| 26.1 MB 1.4 MB/s \n",
            "\u001b[?25hRequirement already satisfied: opt-einsum>=2.3.2 in /usr/local/lib/python3.7/dist-packages (from tensorflow==2.1) (3.3.0)\n",
            "Requirement already satisfied: google-pasta>=0.1.6 in /usr/local/lib/python3.7/dist-packages (from tensorflow==2.1) (0.2.0)\n",
            "Requirement already satisfied: astor>=0.6.0 in /usr/local/lib/python3.7/dist-packages (from tensorflow==2.1) (0.8.1)\n",
            "Requirement already satisfied: h5py in /usr/local/lib/python3.7/dist-packages (from keras-applications>=1.0.8->tensorflow==2.1) (3.1.0)\n",
            "Requirement already satisfied: werkzeug>=0.11.15 in /usr/local/lib/python3.7/dist-packages (from tensorboard<2.2.0,>=2.1.0->tensorflow==2.1) (1.0.1)\n",
            "Requirement already satisfied: google-auth-oauthlib<0.5,>=0.4.1 in /usr/local/lib/python3.7/dist-packages (from tensorboard<2.2.0,>=2.1.0->tensorflow==2.1) (0.4.6)\n",
            "Collecting google-auth<2,>=1.6.3\n",
            "  Downloading google_auth-1.35.0-py2.py3-none-any.whl (152 kB)\n",
            "\u001b[K     |████████████████████████████████| 152 kB 58.8 MB/s \n",
            "\u001b[?25hRequirement already satisfied: setuptools>=41.0.0 in /usr/local/lib/python3.7/dist-packages (from tensorboard<2.2.0,>=2.1.0->tensorflow==2.1) (57.4.0)\n",
            "Requirement already satisfied: requests<3,>=2.21.0 in /usr/local/lib/python3.7/dist-packages (from tensorboard<2.2.0,>=2.1.0->tensorflow==2.1) (2.23.0)\n",
            "Requirement already satisfied: markdown>=2.6.8 in /usr/local/lib/python3.7/dist-packages (from tensorboard<2.2.0,>=2.1.0->tensorflow==2.1) (3.4.1)\n",
            "Requirement already satisfied: rsa<5,>=3.1.4 in /usr/local/lib/python3.7/dist-packages (from google-auth<2,>=1.6.3->tensorboard<2.2.0,>=2.1.0->tensorflow==2.1) (4.9)\n",
            "Collecting cachetools<5.0,>=2.0.0\n",
            "  Downloading cachetools-4.2.4-py3-none-any.whl (10 kB)\n",
            "Requirement already satisfied: pyasn1-modules>=0.2.1 in /usr/local/lib/python3.7/dist-packages (from google-auth<2,>=1.6.3->tensorboard<2.2.0,>=2.1.0->tensorflow==2.1) (0.2.8)\n",
            "Requirement already satisfied: requests-oauthlib>=0.7.0 in /usr/local/lib/python3.7/dist-packages (from google-auth-oauthlib<0.5,>=0.4.1->tensorboard<2.2.0,>=2.1.0->tensorflow==2.1) (1.3.1)\n",
            "Requirement already satisfied: importlib-metadata>=4.4 in /usr/local/lib/python3.7/dist-packages (from markdown>=2.6.8->tensorboard<2.2.0,>=2.1.0->tensorflow==2.1) (4.13.0)\n",
            "Requirement already satisfied: zipp>=0.5 in /usr/local/lib/python3.7/dist-packages (from importlib-metadata>=4.4->markdown>=2.6.8->tensorboard<2.2.0,>=2.1.0->tensorflow==2.1) (3.10.0)\n",
            "Requirement already satisfied: typing-extensions>=3.6.4 in /usr/local/lib/python3.7/dist-packages (from importlib-metadata>=4.4->markdown>=2.6.8->tensorboard<2.2.0,>=2.1.0->tensorflow==2.1) (4.1.1)\n",
            "Requirement already satisfied: pyasn1<0.5.0,>=0.4.6 in /usr/local/lib/python3.7/dist-packages (from pyasn1-modules>=0.2.1->google-auth<2,>=1.6.3->tensorboard<2.2.0,>=2.1.0->tensorflow==2.1) (0.4.8)\n",
            "Requirement already satisfied: idna<3,>=2.5 in /usr/local/lib/python3.7/dist-packages (from requests<3,>=2.21.0->tensorboard<2.2.0,>=2.1.0->tensorflow==2.1) (2.10)\n",
            "Requirement already satisfied: certifi>=2017.4.17 in /usr/local/lib/python3.7/dist-packages (from requests<3,>=2.21.0->tensorboard<2.2.0,>=2.1.0->tensorflow==2.1) (2022.9.24)\n",
            "Requirement already satisfied: urllib3!=1.25.0,!=1.25.1,<1.26,>=1.21.1 in /usr/local/lib/python3.7/dist-packages (from requests<3,>=2.21.0->tensorboard<2.2.0,>=2.1.0->tensorflow==2.1) (1.24.3)\n",
            "Requirement already satisfied: chardet<4,>=3.0.2 in /usr/local/lib/python3.7/dist-packages (from requests<3,>=2.21.0->tensorboard<2.2.0,>=2.1.0->tensorflow==2.1) (3.0.4)\n",
            "Requirement already satisfied: oauthlib>=3.0.0 in /usr/local/lib/python3.7/dist-packages (from requests-oauthlib>=0.7.0->google-auth-oauthlib<0.5,>=0.4.1->tensorboard<2.2.0,>=2.1.0->tensorflow==2.1) (3.2.2)\n",
            "Requirement already satisfied: cached-property in /usr/local/lib/python3.7/dist-packages (from h5py->keras-applications>=1.0.8->tensorflow==2.1) (1.5.2)\n",
            "Building wheels for collected packages: gast\n",
            "  Building wheel for gast (setup.py) ... \u001b[?25l\u001b[?25hdone\n",
            "  Created wheel for gast: filename=gast-0.2.2-py3-none-any.whl size=7554 sha256=bccf7abce94cd4f2e47200f8cd81ef43393979cd25ea887cb7251f21d9644345\n",
            "  Stored in directory: /root/.cache/pip/wheels/21/7f/02/420f32a803f7d0967b48dd823da3f558c5166991bfd204eef3\n",
            "Successfully built gast\n",
            "Installing collected packages: cachetools, google-auth, tensorflow-estimator, tensorboard, scipy, keras-applications, gast, tensorflow\n",
            "  Attempting uninstall: cachetools\n",
            "    Found existing installation: cachetools 5.2.0\n",
            "    Uninstalling cachetools-5.2.0:\n",
            "      Successfully uninstalled cachetools-5.2.0\n",
            "  Attempting uninstall: google-auth\n",
            "    Found existing installation: google-auth 2.14.1\n",
            "    Uninstalling google-auth-2.14.1:\n",
            "      Successfully uninstalled google-auth-2.14.1\n",
            "  Attempting uninstall: tensorflow-estimator\n",
            "    Found existing installation: tensorflow-estimator 2.9.0\n",
            "    Uninstalling tensorflow-estimator-2.9.0:\n",
            "      Successfully uninstalled tensorflow-estimator-2.9.0\n",
            "  Attempting uninstall: tensorboard\n",
            "    Found existing installation: tensorboard 2.9.1\n",
            "    Uninstalling tensorboard-2.9.1:\n",
            "      Successfully uninstalled tensorboard-2.9.1\n",
            "  Attempting uninstall: scipy\n",
            "    Found existing installation: scipy 1.7.3\n",
            "    Uninstalling scipy-1.7.3:\n",
            "      Successfully uninstalled scipy-1.7.3\n",
            "  Attempting uninstall: gast\n",
            "    Found existing installation: gast 0.4.0\n",
            "    Uninstalling gast-0.4.0:\n",
            "      Successfully uninstalled gast-0.4.0\n",
            "  Attempting uninstall: tensorflow\n",
            "    Found existing installation: tensorflow 2.9.2\n",
            "    Uninstalling tensorflow-2.9.2:\n",
            "      Successfully uninstalled tensorflow-2.9.2\n",
            "\u001b[31mERROR: pip's dependency resolver does not currently take into account all the packages that are installed. This behaviour is the source of the following dependency conflicts.\n",
            "xarray-einstats 0.2.2 requires numpy>=1.21, but you have numpy 1.19.0 which is incompatible.\n",
            "tensorflow-probability 0.17.0 requires gast>=0.3.2, but you have gast 0.2.2 which is incompatible.\n",
            "plotnine 0.8.0 requires scipy>=1.5.0, but you have scipy 1.4.1 which is incompatible.\n",
            "jaxlib 0.3.22+cuda11.cudnn805 requires numpy>=1.20, but you have numpy 1.19.0 which is incompatible.\n",
            "jaxlib 0.3.22+cuda11.cudnn805 requires scipy>=1.5, but you have scipy 1.4.1 which is incompatible.\n",
            "jax 0.3.23 requires numpy>=1.20, but you have numpy 1.19.0 which is incompatible.\n",
            "jax 0.3.23 requires scipy>=1.5, but you have scipy 1.4.1 which is incompatible.\u001b[0m\n",
            "Successfully installed cachetools-4.2.4 gast-0.2.2 google-auth-1.35.0 keras-applications-1.0.8 scipy-1.4.1 tensorboard-2.1.1 tensorflow-2.1.0 tensorflow-estimator-2.1.0\n"
          ]
        },
        {
          "output_type": "display_data",
          "data": {
            "application/vnd.colab-display-data+json": {
              "pip_warning": {
                "packages": [
                  "google"
                ]
              }
            }
          },
          "metadata": {}
        }
      ],
      "source": [
        "!pip install numpy==1.19\n",
        "!pip install tensorflow==2.1\n"
      ]
    },
    {
      "cell_type": "code",
      "execution_count": 1,
      "metadata": {
        "colab": {
          "base_uri": "https://localhost:8080/"
        },
        "id": "SKVHMnvg19Yc",
        "outputId": "0f0d4d8b-a4b1-467a-cfe9-7f6ba23897f1"
      },
      "outputs": [
        {
          "output_type": "stream",
          "name": "stdout",
          "text": [
            "2.1.0\n",
            "1.19.0\n"
          ]
        }
      ],
      "source": [
        "import numpy as np\n",
        "\n",
        "################################### for neural network modeling\n",
        "import tensorflow as tf\n",
        "import tensorflow.keras as keras\n",
        "from tensorflow.keras import layers\n",
        "from tensorflow.keras import backend as K\n",
        "from tensorflow.keras.models import Model\n",
        "import matplotlib\n",
        "from matplotlib import pyplot as plt\n",
        "import random\n",
        "import pickle\n",
        "from scipy import stats\n",
        "print(tf.__version__)\n",
        "print(np.__version__)\n",
        "# numpy==1.19\n",
        "# tensorflow==2.1\n",
        "# scipy==1.4.1"
      ]
    },
    {
      "cell_type": "markdown",
      "metadata": {
        "id": "sc7uGNNW2GEQ"
      },
      "source": [
        "# **Generate synthetic data**\n",
        "\n",
        "Code to generate self-inhibiting Hawkes process with ReLU transfer function."
      ]
    },
    {
      "cell_type": "code",
      "execution_count": 2,
      "metadata": {
        "id": "iQEZV7Ok2VaW"
      },
      "outputs": [],
      "source": [
        "class exp_thinning_hawkes(object):\n",
        "    def __init__(self, lambda_0, alpha, beta, t=0, max_jumps=None, max_time=None):\n",
        "        \"\"\"\n",
        "        Parameters\n",
        "        ----------\n",
        "        lambda_0 : float\n",
        "            Baseline constant intensity.\n",
        "        alpha : float\n",
        "            Interaction factor.\n",
        "        beta : float\n",
        "            Decay factor.\n",
        "        t : float, optional\n",
        "            Initial time. The default is 0.\n",
        "        max_jumps : float, optional\n",
        "            Maximal number of jumps. The default is None.\n",
        "        max_time : float, optional\n",
        "            Maximal time horizon. The default is None.\n",
        "            \n",
        "        Attributes\n",
        "        ----------\n",
        "        t_0 : float\n",
        "            Initial time provided at initialization.\n",
        "        timestamps : list of float\n",
        "            List of simulated events. It includes the initial time t_0.\n",
        "        intensity_jumps : list of float\n",
        "            List of intensity at each simulated jump. It includes the baseline intensity lambda_0.\n",
        "        aux : float\n",
        "            Parameter used in simulation.\n",
        "        simulated : bool\n",
        "            Parameter that marks if a process has been already been simulated, or if its event times have been initialized.\n",
        "        \"\"\"\n",
        "        self.alpha = alpha\n",
        "        self.beta = beta\n",
        "        self.t_0 = t\n",
        "        self.t = t\n",
        "        self.lambda_0 = lambda_0\n",
        "        self.max_jumps = max_jumps\n",
        "        self.max_time = max_time\n",
        "        self.timestamps = [t]\n",
        "        self.intensity_jumps = [lambda_0]\n",
        "        self.aux = 0\n",
        "        self.simulated = False\n",
        "\n",
        "    def simulate(self):\n",
        "        if not self.simulated:\n",
        "            if self.max_jumps is not None and self.max_time is None:\n",
        "                self.simulate_jumps()\n",
        "            elif self.max_time is not None and self.max_jumps is None:\n",
        "                self.simulate_time()\n",
        "            else:\n",
        "                print(\"Either max_jumps or max_time must be given.\")\n",
        "            self.simulated = True\n",
        "\n",
        "        else:\n",
        "            print(\"Process already simulated\")\n",
        "\n",
        "    def simulate_jumps(self):\n",
        "        flag = 0\n",
        "\n",
        "        candidate_intensity = self.lambda_0\n",
        "\n",
        "        while flag < self.max_jumps:\n",
        "\n",
        "            upper_intensity = max(self.lambda_0, candidate_intensity)\n",
        "\n",
        "            self.t += np.random.exponential(1 / upper_intensity)\n",
        "            candidate_intensity = self.lambda_0 + self.aux * np.exp(-self.beta * (self.t - self.timestamps[-1]))\n",
        "\n",
        "            if upper_intensity * np.random.uniform() <= candidate_intensity:\n",
        "                self.timestamps += [self.t]\n",
        "                self.intensity_jumps += [candidate_intensity + self.alpha]\n",
        "                self.aux = candidate_intensity - self.lambda_0 + self.alpha\n",
        "                flag += 1\n",
        "\n",
        "        self.max_time = self.timestamps[-1]\n",
        "\n",
        "    def simulate_time(self):\n",
        "        flag = self.t < self.max_time\n",
        "\n",
        "        while flag:\n",
        "            upper_intensity = max(self.lambda_0,\n",
        "                                  self.lambda_0 + self.aux * np.exp(-self.beta * (self.t - self.timestamps[-1])))\n",
        "\n",
        "            self.t += np.random.exponential(1 / upper_intensity)\n",
        "            candidate_intensity = self.lambda_0 + self.aux * np.exp(-self.beta * (self.t - self.timestamps[-1]))\n",
        "\n",
        "            flag = self.t < self.max_time\n",
        "\n",
        "            if upper_intensity * np.random.uniform() <= candidate_intensity and flag:\n",
        "                self.timestamps += [self.t]\n",
        "                self.intensity_jumps += [candidate_intensity + self.alpha]\n",
        "                self.aux = self.aux * np.exp(-self.beta * (self.t - self.timestamps[-2])) + self.alpha\n",
        "\n",
        "    def plot_intensity(self, ax=None, plot_N=True):\n",
        "        if not self.simulated:\n",
        "            print(\"Simulate first\")\n",
        "\n",
        "        else:\n",
        "            if plot_N:\n",
        "                if ax is None:\n",
        "                    fig, (ax1, ax2) = plt.subplots(2, 1, sharex=True)\n",
        "                elif isinstance(ax[0], matplotlib.axes.Axes):\n",
        "                    ax1, ax2 = ax\n",
        "                else:\n",
        "                    return \"ax must be a (2,1) axes\"\n",
        "            else:\n",
        "                if ax is None:\n",
        "                    fig, ax1 = plt.subplots()\n",
        "                elif isinstance(ax, matplotlib.axes.Axes):\n",
        "                    ax1 = ax\n",
        "                else:\n",
        "                    return \"ax must be an instance of an axes\"\n",
        "\n",
        "            self.timestamps.append(self.max_time)\n",
        "\n",
        "            times = np.array([self.timestamps[0], self.timestamps[1]])\n",
        "            intensities = np.array([self.lambda_0, self.lambda_0])\n",
        "            step = 0.01\n",
        "            for i, lambda_k in enumerate(self.intensity_jumps):\n",
        "                if i != 0:\n",
        "                    T_k = self.timestamps[i]\n",
        "                    nb_step = np.maximum(100, np.floor((self.timestamps[i + 1] - T_k) / step))\n",
        "                    aux_times = np.linspace(T_k, self.timestamps[i + 1], int(nb_step))\n",
        "                    times = np.append(times, aux_times)\n",
        "                    intensities = np.append(intensities, self.lambda_0 + (lambda_k - self.lambda_0) * np.exp(\n",
        "                        -self.beta * (aux_times - T_k)))\n",
        "\n",
        "            ax1.plot([0, self.max_time], [0, 0], c='k', alpha=0.5)\n",
        "            if self.alpha < 0:\n",
        "                ax1.plot(times, intensities, label=\"Underlying intensity\", c=\"#1f77b4\")\n",
        "            ax1.plot(times, np.maximum(intensities, 0), label=\"Conditional intensity\", c='r')\n",
        "            ax1.legend()\n",
        "            ax1.grid()\n",
        "            if plot_N:\n",
        "                ax2.step(self.timestamps, np.append(np.arange(0, len(self.timestamps) - 1), len(self.timestamps) - 2),\n",
        "                         where=\"post\", label=\"$N(t)$\")\n",
        "                ax2.legend()\n",
        "                ax2.grid()\n",
        "            self.timestamps.pop()\n",
        "\n",
        "    def set_time_intensity(self, timestamps):\n",
        "        if not self.simulated:\n",
        "            self.timestamps = timestamps\n",
        "            self.max_time = timestamps[-1]\n",
        "\n",
        "            intensities = [self.lambda_0]\n",
        "            for k in range(1, len(timestamps)):\n",
        "                intensities += [self.lambda_0 + (intensities[-1] - self.lambda_0) * np.exp(\n",
        "                    -self.beta * (timestamps[k] - timestamps[k - 1])) + self.alpha]\n",
        "            self.intensity_jumps = intensities\n",
        "            self.simulated = True\n",
        "\n",
        "        else:\n",
        "            print(\"Already simulated\")\n",
        "\n",
        "    def compensator_transform(self, plot=None, exclude_values=0):\n",
        "        if not self.simulated:\n",
        "            print(\"Simulate first\")\n",
        "\n",
        "        else:\n",
        "\n",
        "            T_k = self.timestamps[1]\n",
        "\n",
        "            compensator_k = self.lambda_0 * (T_k - self.t_0)\n",
        "\n",
        "            self.timestamps_transformed = [compensator_k]\n",
        "            self.intervals_transformed = [compensator_k]\n",
        "\n",
        "            for k in range(2, len(self.timestamps)):\n",
        "\n",
        "                lambda_k = self.intensity_jumps[k-1]\n",
        "                tau_star = self.timestamps[k] - self.timestamps[k - 1]\n",
        "\n",
        "                if lambda_k >= 0:\n",
        "                    C_k = lambda_k - self.lambda_0\n",
        "                else:\n",
        "                    C_k = -self.lambda_0\n",
        "                    tau_star -= (np.log(-(lambda_k - self.lambda_0)) - np.log(self.lambda_0)) / self.beta\n",
        "\n",
        "                compensator_k = self.lambda_0 * tau_star + (C_k / self.beta) * (1 - np.exp(-self.beta * tau_star))\n",
        "\n",
        "                self.timestamps_transformed += [self.timestamps_transformed[-1] + compensator_k]\n",
        "                self.intervals_transformed += [compensator_k]\n",
        "\n",
        "            if plot is not None:\n",
        "                stats.probplot(self.intervals_transformed[exclude_values:], dist=stats.expon, plot=plot)"
      ]
    },
    {
      "cell_type": "markdown",
      "metadata": {
        "id": "fDkyZ8D1L6Xr"
      },
      "source": [
        "Code to generate inhibiting Hawkes processes with softplus transfer function"
      ]
    },
    {
      "cell_type": "code",
      "execution_count": 3,
      "metadata": {
        "id": "rBQcQWflL2-x"
      },
      "outputs": [],
      "source": [
        "class HawkesInhibGen(object):\n",
        "    '''\n",
        "    here is the sequence generator using Hawkes process with inhibition\n",
        "    '''\n",
        "    def __init__(self):\n",
        "        np.random.seed(0)\n",
        "        self.dim_process = 1\n",
        "        self.lambda_0 = np.float32(1.0)\n",
        "        self.alpha = np.float32(-0.8)\n",
        "        self.beta = np.float32(1.0)\n",
        "        self.name = 'HawkesInhibGen'\n",
        "\n",
        "        self.intensity_tilde = np.copy(self.lambda_0)\n",
        "        self.intensity = np.log(np.float32(1.0) + np.exp(self.intensity_tilde))\n",
        "\n",
        "        self.intensity_tilde_ub = None\n",
        "        self.intensity_ub = None\n",
        "\n",
        "        self.one_seq = []\n",
        "        self.intensities = []\n",
        "\n",
        "        self.cnt_total_event = np.int32(len(self.one_seq))\n",
        "    \n",
        "    def load_pregen_data(self):\n",
        "      with open(\"pregen_data.pkl\", \"rb\") as pregen_data:\n",
        "        self.one_seq = pickle.load(pregen_data)\n",
        "      with open(\"pregen_intensities.pkl\", \"rb\") as pregen_intensities:\n",
        "        self.intensities = pickle.load(pregen_intensities)\n",
        "\n",
        "    def soft_relu(self, x):\n",
        "        return np.log(np.float32(1.0)+np.exp(x))\n",
        "\n",
        "    def hard_relu(self, x):\n",
        "        return np.float32(0.5) * (x + np.abs(x))\n",
        "\n",
        "    def restart_sequence(self):\n",
        "        self.intensity_tilde = np.copy(self.lambda_0)\n",
        "        self.intensity = self.soft_relu(self.intensity_tilde)\n",
        "\n",
        "        self.intensity_tilde_ub = None\n",
        "        self.intensity_ub = None\n",
        "\n",
        "        self.one_seq = []\n",
        "        self.intensities = []\n",
        "        self.cnt_total_event = np.int32(len(self.one_seq))\n",
        "\n",
        "    def compute_intensity_given_past(self, time_current):\n",
        "        self.intensity_tilde = np.copy(self.lambda_0)\n",
        "        for event in self.one_seq:\n",
        "            time_since_start = event\n",
        "            change_time = time_current - time_since_start\n",
        "            decay_frac = np.exp(-self.beta * change_time)\n",
        "            self.intensity_tilde += np.copy(self.alpha * decay_frac)\n",
        "        self.intensity = self.soft_relu(self.intensity_tilde)\n",
        "\n",
        "    def compute_intensity_upper_bound(self, time_current):\n",
        "        self.intensity_tilde_ub = np.copy(self.lambda_0)\n",
        "        for event in self.one_seq:\n",
        "            time_since_start = event\n",
        "            change_time = time_current - time_since_start\n",
        "            decay_frac = np.exp(-self.beta * change_time)\n",
        "            self.intensity_tilde_ub += np.copy(self.hard_relu(self.alpha) * decay_frac)\n",
        "        self.intensity_ub = self.soft_relu(self.intensity_tilde_ub)\n",
        "    \n",
        "    def sample_time(self):\n",
        "        time_current = np.float32(0.0)\n",
        "        if len(self.one_seq) > 0:\n",
        "            time_current = self.one_seq[-1]\n",
        "        self.compute_intensity_upper_bound(time_current)\n",
        "        intensity_hazard = np.sum(self.intensity_ub)\n",
        "        u = 1.5\n",
        "        while u >= 1.0:\n",
        "            E = np.random.exponential(scale=1.0, size=None)\n",
        "            U = np.random.uniform(low=0.0, high=1.0, size=None)\n",
        "            time_current += ( E / intensity_hazard )\n",
        "            self.compute_intensity_given_past(time_current)\n",
        "            u = U * intensity_hazard / np.sum(self.intensity)\n",
        "        return time_current\n",
        "\n",
        "    def sample_one_event(self):\n",
        "        time_since_start_new = self.sample_time()\n",
        "        self.compute_intensity_given_past(time_since_start_new)\n",
        "        prob = self.intensity / np.sum(self.intensity)\n",
        "        return time_since_start_new\n",
        "\n",
        "    def gen_one_seq(self, max_len):\n",
        "        time_since_start = np.float32(0.0)\n",
        "        idx_event = len(self.one_seq)\n",
        "        print(idx_event)\n",
        "        while idx_event < max_len:\n",
        "            time_since_start_new = self.sample_one_event()\n",
        "            self.cnt_total_event += 1\n",
        "            time_since_start = time_since_start_new\n",
        "            self.one_seq.append(time_since_start)\n",
        "            self.intensities.append(self.intensity)\n",
        "            if idx_event % 100 == 0 or idx_event + 1 == max_len:\n",
        "              print(idx_event)\n",
        "              print(\"saving\")\n",
        "              with open(\"pregen_data.pkl\", \"wb\") as pregen_data:\n",
        "                pickle.dump(self.one_seq, pregen_data)\n",
        "              with open(\"pregen_intensities.pkl\", \"wb\") as pregen_intensities:\n",
        "                pickle.dump(self.intensities, pregen_intensities)\n",
        "            idx_event += 1\n"
      ]
    },
    {
      "cell_type": "markdown",
      "metadata": {
        "id": "sPpd7g6M2baA"
      },
      "source": [
        "# **Implementation of the proposed model**\n",
        "\n",
        "The following keras model receives the event history and the elapsed time from the most recent event and outputs the hazard function and the cumulative hazard function."
      ]
    },
    {
      "cell_type": "code",
      "execution_count": 4,
      "metadata": {
        "id": "t1LMJDdf2iYA"
      },
      "outputs": [],
      "source": [
        "class PreTrainModel:\n",
        "  def __init__(self, T_train, T_test, intensities):\n",
        "    self.T_train = T_train\n",
        "    self.T_test = T_test\n",
        "    self.idx = len(T_train)\n",
        "    self.dT_train = np.ediff1d(T_train)\n",
        "    self.intensities = intensities\n",
        "\n",
        "    self.time_step = 20\n",
        "    size_rnn = 64\n",
        "    size_nn = 64\n",
        "    size_layer_chfn = 2\n",
        "\n",
        "    ## mean and std of the log of the inter-event interval, which will be used for the data standardization\n",
        "    mu = np.log(self.dT_train).mean()\n",
        "    sigma = np.log(self.dT_train).std()\n",
        "\n",
        "    ## kernel initializer for positive weights\n",
        "    def abs_glorot_uniform(shape, dtype=None, partition_info=None): \n",
        "        return K.abs(keras.initializers.glorot_uniform(seed=None)(shape, dtype=dtype))\n",
        "\n",
        "    ## Inputs \n",
        "    event_history  = layers.Input(shape=(self.time_step, 1)) # input to RNN (event history)\n",
        "    elapsed_time = layers.Input(shape=(1,)) # input to cumulative hazard function network (the elapsed time from the most recent event)\n",
        "\n",
        "    ## log-transformation and standardization\n",
        "    event_history_nmlz = layers.Lambda(lambda x: (K.log(x)-mu)/sigma)(event_history)\n",
        "    elapsed_time_nmlz = layers.Lambda(lambda x: (K.log(x)-mu)/sigma)(elapsed_time) \n",
        "\n",
        "    ## RNN\n",
        "    output_rnn = layers.SimpleRNN(size_rnn, input_shape=(self.time_step,1), activation='tanh')(event_history_nmlz)\n",
        "\n",
        "    ## the first hidden layer in the cummulative hazard function network\n",
        "    hidden_tau = layers.Dense(size_nn, kernel_initializer=abs_glorot_uniform, kernel_constraint=keras.constraints.NonNeg(), use_bias=False)(elapsed_time_nmlz) # elapsed time -> the 1st hidden layer, positive weights\n",
        "    hidden_rnn = layers.Dense(size_nn)(output_rnn) # rnn output -> the 1st hidden layer\n",
        "    hidden = layers.Lambda(lambda inputs: K.tanh(inputs[0] + inputs[1]))([hidden_tau,hidden_rnn])\n",
        "\n",
        "    ## the second and higher hidden layers\n",
        "    for i in range(size_layer_chfn-1):\n",
        "        hidden = layers.Dense(size_nn,activation='tanh', kernel_initializer=abs_glorot_uniform, kernel_constraint=keras.constraints.NonNeg())(hidden) # positive weights\n",
        "\n",
        "    ## Outputs\n",
        "    Int_l = layers.Dense(1, activation='softplus', kernel_initializer=abs_glorot_uniform, kernel_constraint=keras.constraints.NonNeg())(hidden) # cumulative hazard function, positive weights\n",
        "    l = layers.Lambda( lambda inputs: K.gradients(inputs[0], inputs[1])[0] )([Int_l, elapsed_time]) # hazard function\n",
        "\n",
        "    ## define model\n",
        "    self.model = Model(inputs=[event_history, elapsed_time],outputs=[l, Int_l])\n",
        "    self.model.add_loss(- K.mean(K.log(1e-10 + l) - Int_l))\n",
        "  \n",
        "  def train(self):\n",
        "    n = self.dT_train.shape[0]\n",
        "    input_RNN = np.array( [ self.dT_train[i:i+self.time_step] for i in range(n-self.time_step) ]).reshape(n-self.time_step,self.time_step,1)\n",
        "    input_CHFN = self.dT_train[-n+self.time_step:].reshape(n-self.time_step,1)\n",
        "    self.model.compile(keras.optimizers.Adam(lr=0.0001))\n",
        "    self.model.fit([input_RNN,input_CHFN],epochs=60,batch_size=256,validation_split=0.2)\n",
        "\n",
        "  def test_intensity_numerical(self):\n",
        "    dT_test = np.ediff1d(self.T_test)\n",
        "    n = dT_test.shape[0]\n",
        "    self.input_RNN_test = np.array(\n",
        "        [dT_test[i:i + self.time_step] \n",
        "         for i in range(n-self.time_step)]\n",
        "    ).reshape(n-self.time_step,self.time_step,1)\n",
        "    self.input_CHFN_test = dT_test[-n+self.time_step:].reshape(n-self.time_step,1)\n",
        "\n",
        "    [self.l_test,self.Int_l_test] = self.model.predict(\n",
        "        [self.input_RNN_test, self.input_CHFN_test],\n",
        "        batch_size=self.input_RNN_test.shape[0]\n",
        "    )\n",
        "    self.LL = np.log(self.l_test+1e-10) - self.Int_l_test\n",
        "    print(\"With a loglikelihood of:\", self.LL.sum())\n",
        "    print(\"Mean negative log-likelihood per event: \", self.LL.mean())\n",
        "\n",
        "  def test_intensity_graphical(self, end):\n",
        "    fig1, ax1 = plt.subplots()\n",
        "    ax1.plot(self.T_test[self.time_step:end + self.time_step], self.l_test[:end, 0], label=\"Predicted\", c=\"#0000FF\")\n",
        "    ax1.plot(self.T_test[self.time_step:end + self.time_step], \n",
        "             self.intensities[self.idx + self.time_step:self.idx + end + self.time_step], label=\"Actual\", c=\"#000000\")\n",
        "\n",
        "    ax1.legend()\n",
        "    ax1.set_xlabel(\"Time\")\n",
        "    ax1.set_ylabel(\"Intensity\")\n",
        "\n",
        "  def test_time_numerical(self):\n",
        "    x_left = 1e-4  * np.mean(self.dT_train) * np.ones_like(self.input_CHFN_test)\n",
        "    x_right = 100 * np.mean(self.dT_train) * np.ones_like(self.input_CHFN_test)\n",
        "\n",
        "    for i in range(13):\n",
        "        x_center = (x_left + x_right)/2\n",
        "        v = self.model.predict([self.input_RNN_test, x_center], batch_size = x_center.shape[0])[1]\n",
        "        x_left = np.where(v < np.log(2), x_center, x_left)\n",
        "        x_right = np.where(v >= np.log(2), x_center, x_right)\n",
        "        \n",
        "    self.tau_pred = (x_left + x_right)/2\n",
        "    AE = np.abs(self.input_CHFN_test - self.tau_pred)\n",
        "    print(\"Mean absolute error: \", AE.mean())\n",
        "\n",
        "  def test_time_graphical(self, end):\n",
        "    pred_T_test = [self.T_test[self.time_step + 1]]\n",
        "    pred_T_test += [self.T_test[i] + self.tau_pred[i - self.time_step - 1] for i in range(self.time_step + 1, end)]\n",
        "    actual_T_test = self.T_test[self.time_step + 1 : end + 1]\n",
        "\n",
        "    length = end - self.time_step\n",
        "    start = self.idx + self.time_step * 2 + 1\n",
        "    fig2, ax2 = plt.subplots()\n",
        "    ax2.plot(pred_T_test, self.intensities[start:start + end - self.time_step], label=\"Predicted\", c=\"#000000\")\n",
        "    ax2.plot(actual_T_test, self.intensities[start:start + end - self.time_step], label=\"Actual\", c=\"#0000FF\")\n",
        "\n",
        "    ax2.legend()\n",
        "    ax2.set_xlim(self.T_test[self.time_step + 1], max(pred_T_test[-1], actual_T_test[-1]))\n",
        "    ax2.set_xlabel(\"Time\")\n",
        "    ax2.set_ylabel(\"Intensity\")"
      ]
    },
    {
      "cell_type": "markdown",
      "metadata": {
        "id": "kKFUtNqrYlDe"
      },
      "source": [
        "Generate 3 Hawkes processes"
      ]
    },
    {
      "cell_type": "markdown",
      "metadata": {
        "id": "vC6XNlSgYoqI"
      },
      "source": [
        "Self-exciting with lambda_0 = 1.0, alpha = 0.8, beta = 1.0"
      ]
    },
    {
      "cell_type": "code",
      "execution_count": 5,
      "metadata": {
        "id": "-RF15apmYnm0"
      },
      "outputs": [],
      "source": [
        "np.random.seed(0)\n",
        "self_exciting = exp_thinning_hawkes(lambda_0 = 1.0, alpha = 0.8, beta = 1.0, max_jumps=60001)\n",
        "self_exciting.simulate_jumps()\n",
        "idx = int(60000*0.8)\n",
        "self_exciting_model = PreTrainModel(\n",
        "    T_train = self_exciting.timestamps[1:idx],\n",
        "    T_test = self_exciting.timestamps[idx:],\n",
        "    intensities = self_exciting.intensity_jumps\n",
        ")"
      ]
    },
    {
      "cell_type": "markdown",
      "metadata": {
        "id": "gbS5jsAAYuSi"
      },
      "source": [
        "Inhibiting ReLU with lambda_0 = 1.0, alpha = -0.8, beta = 1.0"
      ]
    },
    {
      "cell_type": "code",
      "execution_count": 6,
      "metadata": {
        "id": "db2hY7P9YtPj"
      },
      "outputs": [],
      "source": [
        "np.random.seed(0)\n",
        "relu = exp_thinning_hawkes(lambda_0 = 1.0, alpha = -0.8, beta = 1.0, max_jumps=60001)\n",
        "relu.simulate_jumps()\n",
        "idx = int(60000*0.8)\n",
        "relu_model = PreTrainModel(\n",
        "    T_train = relu.timestamps[1:idx],\n",
        "    T_test = relu.timestamps[idx:],\n",
        "    intensities = relu.intensity_jumps\n",
        ")"
      ]
    },
    {
      "cell_type": "markdown",
      "metadata": {
        "id": "YTuKij0fY0bi"
      },
      "source": [
        "Inhibiting softplus with lambda_0 = 1.0, alpha = -0.8, beta = 1.0"
      ]
    },
    {
      "cell_type": "code",
      "execution_count": 9,
      "metadata": {
        "colab": {
          "base_uri": "https://localhost:8080/"
        },
        "id": "1vJsqXIwY0D8",
        "outputId": "13f2636f-c751-4391-b8cd-0455d746d19f"
      },
      "outputs": [
        {
          "output_type": "stream",
          "name": "stdout",
          "text": [
            "60001\n"
          ]
        }
      ],
      "source": [
        "softplus = HawkesInhibGen()\n",
        "softplus.load_pregen_data()\n",
        "max_len = 60000\n",
        "softplus.gen_one_seq(max_len)\n",
        "idx = int(60000 * 0.8)\n",
        "softplus_model = PreTrainModel(\n",
        "    T_train = softplus.one_seq[:idx],\n",
        "    T_test = softplus.one_seq[idx:60000],\n",
        "    intensities = softplus.intensities\n",
        ")"
      ]
    },
    {
      "cell_type": "code",
      "execution_count": 10,
      "metadata": {
        "colab": {
          "base_uri": "https://localhost:8080/"
        },
        "id": "17ut4wUyaRlX",
        "outputId": "990148c3-0c5c-4ec5-ea9d-0072019d7c4f"
      },
      "outputs": [
        {
          "output_type": "stream",
          "name": "stderr",
          "text": [
            "WARNING:tensorflow:Output lambda_3 missing from loss dictionary. We assume this was done on purpose. The fit and evaluate APIs will not be expecting any data to be passed to lambda_3.\n",
            "WARNING:tensorflow:Output dense_3 missing from loss dictionary. We assume this was done on purpose. The fit and evaluate APIs will not be expecting any data to be passed to dense_3.\n"
          ]
        },
        {
          "output_type": "stream",
          "name": "stdout",
          "text": [
            "Train on 38382 samples, validate on 9596 samples\n",
            "Epoch 1/60\n",
            "38382/38382 [==============================] - 2s 65us/sample - loss: 1.1729 - val_loss: 0.7005\n",
            "Epoch 2/60\n",
            "38382/38382 [==============================] - 2s 41us/sample - loss: 0.0819 - val_loss: -0.2927\n",
            "Epoch 3/60\n",
            "38382/38382 [==============================] - 2s 41us/sample - loss: -0.4293 - val_loss: -0.3290\n",
            "Epoch 4/60\n",
            "38382/38382 [==============================] - 2s 40us/sample - loss: -0.4395 - val_loss: -0.3282\n",
            "Epoch 5/60\n",
            "38382/38382 [==============================] - 2s 41us/sample - loss: -0.4424 - val_loss: -0.3360\n",
            "Epoch 6/60\n",
            "38382/38382 [==============================] - 2s 41us/sample - loss: -0.4439 - val_loss: -0.3359\n",
            "Epoch 7/60\n",
            "38382/38382 [==============================] - 2s 39us/sample - loss: -0.4471 - val_loss: -0.3375\n",
            "Epoch 8/60\n",
            "38382/38382 [==============================] - 2s 41us/sample - loss: -0.4483 - val_loss: -0.3379\n",
            "Epoch 9/60\n",
            "38382/38382 [==============================] - 2s 40us/sample - loss: -0.4489 - val_loss: -0.3379\n",
            "Epoch 10/60\n",
            "38382/38382 [==============================] - 2s 40us/sample - loss: -0.4489 - val_loss: -0.3353\n",
            "Epoch 11/60\n",
            "38382/38382 [==============================] - 2s 39us/sample - loss: -0.4506 - val_loss: -0.3414\n",
            "Epoch 12/60\n",
            "38382/38382 [==============================] - 2s 40us/sample - loss: -0.4515 - val_loss: -0.3416\n",
            "Epoch 13/60\n",
            "38382/38382 [==============================] - 1s 39us/sample - loss: -0.4521 - val_loss: -0.3422\n",
            "Epoch 14/60\n",
            "38382/38382 [==============================] - 2s 40us/sample - loss: -0.4532 - val_loss: -0.3435\n",
            "Epoch 15/60\n",
            "38382/38382 [==============================] - 2s 39us/sample - loss: -0.4534 - val_loss: -0.3414\n",
            "Epoch 16/60\n",
            "38382/38382 [==============================] - 2s 40us/sample - loss: -0.4542 - val_loss: -0.3449\n",
            "Epoch 17/60\n",
            "38382/38382 [==============================] - 2s 39us/sample - loss: -0.4553 - val_loss: -0.3429\n",
            "Epoch 18/60\n",
            "38382/38382 [==============================] - 2s 43us/sample - loss: -0.4547 - val_loss: -0.3457\n",
            "Epoch 19/60\n",
            "38382/38382 [==============================] - 2s 40us/sample - loss: -0.4561 - val_loss: -0.3464\n",
            "Epoch 20/60\n",
            "38382/38382 [==============================] - 2s 40us/sample - loss: -0.4567 - val_loss: -0.3459\n",
            "Epoch 21/60\n",
            "38382/38382 [==============================] - 2s 39us/sample - loss: -0.4573 - val_loss: -0.3468\n",
            "Epoch 22/60\n",
            "38382/38382 [==============================] - 2s 39us/sample - loss: -0.4583 - val_loss: -0.3474\n",
            "Epoch 23/60\n",
            "38382/38382 [==============================] - 2s 40us/sample - loss: -0.4590 - val_loss: -0.3488\n",
            "Epoch 24/60\n",
            "38382/38382 [==============================] - 2s 41us/sample - loss: -0.4602 - val_loss: -0.3506\n",
            "Epoch 25/60\n",
            "38382/38382 [==============================] - 2s 40us/sample - loss: -0.4610 - val_loss: -0.3513\n",
            "Epoch 26/60\n",
            "38382/38382 [==============================] - 2s 43us/sample - loss: -0.4622 - val_loss: -0.3532\n",
            "Epoch 27/60\n",
            "38382/38382 [==============================] - 2s 65us/sample - loss: -0.4628 - val_loss: -0.3544\n",
            "Epoch 28/60\n",
            "38382/38382 [==============================] - 2s 64us/sample - loss: -0.4651 - val_loss: -0.3541\n",
            "Epoch 29/60\n",
            "38382/38382 [==============================] - 2s 41us/sample - loss: -0.4643 - val_loss: -0.3512\n",
            "Epoch 30/60\n",
            "38382/38382 [==============================] - 2s 40us/sample - loss: -0.4650 - val_loss: -0.3551\n",
            "Epoch 31/60\n",
            "38382/38382 [==============================] - 2s 40us/sample - loss: -0.4662 - val_loss: -0.3548\n",
            "Epoch 32/60\n",
            "38382/38382 [==============================] - 2s 40us/sample - loss: -0.4658 - val_loss: -0.3506\n",
            "Epoch 33/60\n",
            "38382/38382 [==============================] - 2s 40us/sample - loss: -0.4676 - val_loss: -0.3564\n",
            "Epoch 34/60\n",
            "38382/38382 [==============================] - 2s 41us/sample - loss: -0.4682 - val_loss: -0.3577\n",
            "Epoch 35/60\n",
            "38382/38382 [==============================] - 1s 39us/sample - loss: -0.4686 - val_loss: -0.3580\n",
            "Epoch 36/60\n",
            "38382/38382 [==============================] - 1s 38us/sample - loss: -0.4704 - val_loss: -0.3584\n",
            "Epoch 37/60\n",
            "38382/38382 [==============================] - 1s 39us/sample - loss: -0.4706 - val_loss: -0.3596\n",
            "Epoch 38/60\n",
            "38382/38382 [==============================] - 2s 40us/sample - loss: -0.4718 - val_loss: -0.3589\n",
            "Epoch 39/60\n",
            "38382/38382 [==============================] - 2s 40us/sample - loss: -0.4733 - val_loss: -0.3621\n",
            "Epoch 40/60\n",
            "38382/38382 [==============================] - 2s 40us/sample - loss: -0.4746 - val_loss: -0.3603\n",
            "Epoch 41/60\n",
            "38382/38382 [==============================] - 2s 39us/sample - loss: -0.4761 - val_loss: -0.3637\n",
            "Epoch 42/60\n",
            "38382/38382 [==============================] - 2s 41us/sample - loss: -0.4767 - val_loss: -0.3641\n",
            "Epoch 43/60\n",
            "38382/38382 [==============================] - 2s 39us/sample - loss: -0.4772 - val_loss: -0.3650\n",
            "Epoch 44/60\n",
            "38382/38382 [==============================] - 2s 39us/sample - loss: -0.4786 - val_loss: -0.3618\n",
            "Epoch 45/60\n",
            "38382/38382 [==============================] - 1s 39us/sample - loss: -0.4787 - val_loss: -0.3648\n",
            "Epoch 46/60\n",
            "38382/38382 [==============================] - 2s 40us/sample - loss: -0.4795 - val_loss: -0.3629\n",
            "Epoch 47/60\n",
            "38382/38382 [==============================] - 2s 40us/sample - loss: -0.4794 - val_loss: -0.3683\n",
            "Epoch 48/60\n",
            "38382/38382 [==============================] - 2s 40us/sample - loss: -0.4815 - val_loss: -0.3678\n",
            "Epoch 49/60\n",
            "38382/38382 [==============================] - 2s 40us/sample - loss: -0.4811 - val_loss: -0.3688\n",
            "Epoch 50/60\n",
            "38382/38382 [==============================] - 2s 40us/sample - loss: -0.4821 - val_loss: -0.3670\n",
            "Epoch 51/60\n",
            "38382/38382 [==============================] - 2s 41us/sample - loss: -0.4831 - val_loss: -0.3702\n",
            "Epoch 52/60\n",
            "38382/38382 [==============================] - 2s 40us/sample - loss: -0.4831 - val_loss: -0.3706\n",
            "Epoch 53/60\n",
            "38382/38382 [==============================] - 2s 40us/sample - loss: -0.4846 - val_loss: -0.3700\n",
            "Epoch 54/60\n",
            "38382/38382 [==============================] - 2s 40us/sample - loss: -0.4850 - val_loss: -0.3711\n",
            "Epoch 55/60\n",
            "38382/38382 [==============================] - 1s 39us/sample - loss: -0.4835 - val_loss: -0.3707\n",
            "Epoch 56/60\n",
            "38382/38382 [==============================] - 2s 41us/sample - loss: -0.4847 - val_loss: -0.3711\n",
            "Epoch 57/60\n",
            "38382/38382 [==============================] - 2s 41us/sample - loss: -0.4855 - val_loss: -0.3711\n",
            "Epoch 58/60\n",
            "38382/38382 [==============================] - 2s 40us/sample - loss: -0.4862 - val_loss: -0.3673\n",
            "Epoch 59/60\n",
            "38382/38382 [==============================] - 2s 40us/sample - loss: -0.4858 - val_loss: -0.3719\n",
            "Epoch 60/60\n",
            "38382/38382 [==============================] - 2s 40us/sample - loss: -0.4867 - val_loss: -0.3720\n"
          ]
        }
      ],
      "source": [
        "self_exciting_model.train()"
      ]
    },
    {
      "cell_type": "code",
      "execution_count": 11,
      "metadata": {
        "colab": {
          "base_uri": "https://localhost:8080/",
          "height": 315
        },
        "id": "pYiKeDuFay29",
        "outputId": "770619be-690c-4077-c791-3b4db647c984"
      },
      "outputs": [
        {
          "output_type": "stream",
          "name": "stdout",
          "text": [
            "With a loglikelihood of: 4107.164\n",
            "Mean negative log-likelihood per event:  0.34280646\n"
          ]
        },
        {
          "output_type": "display_data",
          "data": {
            "text/plain": [
              "<Figure size 432x288 with 1 Axes>"
            ],
            "image/png": "[encoded data removed]"
          },
          "metadata": {
            "needs_background": "light"
          }
        }
      ],
      "source": [
        "self_exciting_model.test_intensity_numerical()\n",
        "self_exciting_model.test_intensity_graphical(50)"
      ]
    },
    {
      "cell_type": "code",
      "execution_count": 12,
      "metadata": {
        "colab": {
          "base_uri": "https://localhost:8080/",
          "height": 353
        },
        "id": "E1r7m_4ociB3",
        "outputId": "98f3c5a0-5e9f-4c2b-9bfd-3f6e99d95586"
      },
      "outputs": [
        {
          "output_type": "stream",
          "name": "stdout",
          "text": [
            "Mean absolute error:  0.21211626312629348\n"
          ]
        },
        {
          "output_type": "stream",
          "name": "stderr",
          "text": [
            "/usr/local/lib/python3.7/dist-packages/numpy/core/_asarray.py:136: VisibleDeprecationWarning: Creating an ndarray from ragged nested sequences (which is a list-or-tuple of lists-or-tuples-or ndarrays with different lengths or shapes) is deprecated. If you meant to do this, you must specify 'dtype=object' when creating the ndarray\n",
            "  return array(a, dtype, copy=False, order=order, subok=True)\n"
          ]
        },
        {
          "output_type": "display_data",
          "data": {
            "text/plain": [
              "<Figure size 432x288 with 1 Axes>"
            ],
            "image/png": "[encoded data removed]"
          },
          "metadata": {
            "needs_background": "light"
          }
        }
      ],
      "source": [
        "self_exciting_model.test_time_numerical()\n",
        "self_exciting_model.test_time_graphical(50)"
      ]
    },
    {
      "cell_type": "code",
      "execution_count": 13,
      "metadata": {
        "colab": {
          "base_uri": "https://localhost:8080/"
        },
        "id": "mvFPdcrOdxkl",
        "outputId": "68bd6b84-93f5-4bf9-88bc-9318bb791c67"
      },
      "outputs": [
        {
          "output_type": "stream",
          "name": "stderr",
          "text": [
            "WARNING:tensorflow:Output lambda_7 missing from loss dictionary. We assume this was done on purpose. The fit and evaluate APIs will not be expecting any data to be passed to lambda_7.\n",
            "WARNING:tensorflow:Output dense_7 missing from loss dictionary. We assume this was done on purpose. The fit and evaluate APIs will not be expecting any data to be passed to dense_7.\n"
          ]
        },
        {
          "output_type": "stream",
          "name": "stdout",
          "text": [
            "Train on 38382 samples, validate on 9596 samples\n",
            "Epoch 1/60\n",
            "38382/38382 [==============================] - 3s 69us/sample - loss: 3.1256 - val_loss: 2.6096\n",
            "Epoch 2/60\n",
            "38382/38382 [==============================] - 2s 42us/sample - loss: 2.2630 - val_loss: 1.8997\n",
            "Epoch 3/60\n",
            "38382/38382 [==============================] - 2s 43us/sample - loss: 1.6294 - val_loss: 1.4703\n",
            "Epoch 4/60\n",
            "38382/38382 [==============================] - 2s 41us/sample - loss: 1.4659 - val_loss: 1.4439\n",
            "Epoch 5/60\n",
            "38382/38382 [==============================] - 2s 40us/sample - loss: 1.4540 - val_loss: 1.4412\n",
            "Epoch 6/60\n",
            "38382/38382 [==============================] - 2s 42us/sample - loss: 1.4511 - val_loss: 1.4380\n",
            "Epoch 7/60\n",
            "38382/38382 [==============================] - 3s 65us/sample - loss: 1.4494 - val_loss: 1.4370\n",
            "Epoch 8/60\n",
            "38382/38382 [==============================] - 3s 66us/sample - loss: 1.4490 - val_loss: 1.4363\n",
            "Epoch 9/60\n",
            "38382/38382 [==============================] - 2s 42us/sample - loss: 1.4481 - val_loss: 1.4355\n",
            "Epoch 10/60\n",
            "38382/38382 [==============================] - 2s 41us/sample - loss: 1.4471 - val_loss: 1.4386\n",
            "Epoch 11/60\n",
            "38382/38382 [==============================] - 2s 41us/sample - loss: 1.4464 - val_loss: 1.4352\n",
            "Epoch 12/60\n",
            "38382/38382 [==============================] - 2s 39us/sample - loss: 1.4463 - val_loss: 1.4348\n",
            "Epoch 13/60\n",
            "38382/38382 [==============================] - 2s 40us/sample - loss: 1.4454 - val_loss: 1.4342\n",
            "Epoch 14/60\n",
            "38382/38382 [==============================] - 2s 39us/sample - loss: 1.4457 - val_loss: 1.4343\n",
            "Epoch 15/60\n",
            "38382/38382 [==============================] - 1s 39us/sample - loss: 1.4445 - val_loss: 1.4327\n",
            "Epoch 16/60\n",
            "38382/38382 [==============================] - 2s 41us/sample - loss: 1.4441 - val_loss: 1.4330\n",
            "Epoch 17/60\n",
            "38382/38382 [==============================] - 2s 42us/sample - loss: 1.4441 - val_loss: 1.4326\n",
            "Epoch 18/60\n",
            "38382/38382 [==============================] - 1s 39us/sample - loss: 1.4435 - val_loss: 1.4315\n",
            "Epoch 19/60\n",
            "38382/38382 [==============================] - 1s 39us/sample - loss: 1.4428 - val_loss: 1.4323\n",
            "Epoch 20/60\n",
            "38382/38382 [==============================] - 2s 41us/sample - loss: 1.4420 - val_loss: 1.4308\n",
            "Epoch 21/60\n",
            "38382/38382 [==============================] - 2s 40us/sample - loss: 1.4419 - val_loss: 1.4326\n",
            "Epoch 22/60\n",
            "38382/38382 [==============================] - 1s 39us/sample - loss: 1.4410 - val_loss: 1.4338\n",
            "Epoch 23/60\n",
            "38382/38382 [==============================] - 2s 39us/sample - loss: 1.4410 - val_loss: 1.4298\n",
            "Epoch 24/60\n",
            "38382/38382 [==============================] - 2s 42us/sample - loss: 1.4402 - val_loss: 1.4315\n",
            "Epoch 25/60\n",
            "38382/38382 [==============================] - 2s 42us/sample - loss: 1.4397 - val_loss: 1.4286\n",
            "Epoch 26/60\n",
            "38382/38382 [==============================] - 2s 40us/sample - loss: 1.4387 - val_loss: 1.4284\n",
            "Epoch 27/60\n",
            "38382/38382 [==============================] - 2s 40us/sample - loss: 1.4375 - val_loss: 1.4266\n",
            "Epoch 28/60\n",
            "38382/38382 [==============================] - 2s 40us/sample - loss: 1.4375 - val_loss: 1.4266\n",
            "Epoch 29/60\n",
            "38382/38382 [==============================] - 2s 40us/sample - loss: 1.4365 - val_loss: 1.4257\n",
            "Epoch 30/60\n",
            "38382/38382 [==============================] - 2s 41us/sample - loss: 1.4350 - val_loss: 1.4244\n",
            "Epoch 31/60\n",
            "38382/38382 [==============================] - 2s 40us/sample - loss: 1.4344 - val_loss: 1.4223\n",
            "Epoch 32/60\n",
            "38382/38382 [==============================] - 2s 43us/sample - loss: 1.4325 - val_loss: 1.4213\n",
            "Epoch 33/60\n",
            "38382/38382 [==============================] - 2s 43us/sample - loss: 1.4316 - val_loss: 1.4205\n",
            "Epoch 34/60\n",
            "38382/38382 [==============================] - 2s 40us/sample - loss: 1.4299 - val_loss: 1.4197\n",
            "Epoch 35/60\n",
            "38382/38382 [==============================] - 2s 40us/sample - loss: 1.4280 - val_loss: 1.4169\n",
            "Epoch 36/60\n",
            "38382/38382 [==============================] - 2s 41us/sample - loss: 1.4259 - val_loss: 1.4147\n",
            "Epoch 37/60\n",
            "38382/38382 [==============================] - 2s 41us/sample - loss: 1.4239 - val_loss: 1.4125\n",
            "Epoch 38/60\n",
            "38382/38382 [==============================] - 2s 40us/sample - loss: 1.4217 - val_loss: 1.4109\n",
            "Epoch 39/60\n",
            "38382/38382 [==============================] - 1s 39us/sample - loss: 1.4201 - val_loss: 1.4110\n",
            "Epoch 40/60\n",
            "38382/38382 [==============================] - 2s 39us/sample - loss: 1.4192 - val_loss: 1.4079\n",
            "Epoch 41/60\n",
            "38382/38382 [==============================] - 2s 40us/sample - loss: 1.4175 - val_loss: 1.4079\n",
            "Epoch 42/60\n",
            "38382/38382 [==============================] - 2s 41us/sample - loss: 1.4170 - val_loss: 1.4075\n",
            "Epoch 43/60\n",
            "38382/38382 [==============================] - 2s 40us/sample - loss: 1.4164 - val_loss: 1.4069\n",
            "Epoch 44/60\n",
            "38382/38382 [==============================] - 2s 56us/sample - loss: 1.4151 - val_loss: 1.4055\n",
            "Epoch 45/60\n",
            "38382/38382 [==============================] - 2s 64us/sample - loss: 1.4145 - val_loss: 1.4057\n",
            "Epoch 46/60\n",
            "38382/38382 [==============================] - 2s 47us/sample - loss: 1.4134 - val_loss: 1.4037\n",
            "Epoch 47/60\n",
            "38382/38382 [==============================] - 2s 39us/sample - loss: 1.4130 - val_loss: 1.4043\n",
            "Epoch 48/60\n",
            "38382/38382 [==============================] - 2s 40us/sample - loss: 1.4128 - val_loss: 1.4036\n",
            "Epoch 49/60\n",
            "38382/38382 [==============================] - 2s 40us/sample - loss: 1.4126 - val_loss: 1.4039\n",
            "Epoch 50/60\n",
            "38382/38382 [==============================] - 2s 40us/sample - loss: 1.4118 - val_loss: 1.4019\n",
            "Epoch 51/60\n",
            "38382/38382 [==============================] - 2s 40us/sample - loss: 1.4115 - val_loss: 1.4033\n",
            "Epoch 52/60\n",
            "38382/38382 [==============================] - 2s 42us/sample - loss: 1.4112 - val_loss: 1.4028\n",
            "Epoch 53/60\n",
            "38382/38382 [==============================] - 2s 40us/sample - loss: 1.4111 - val_loss: 1.4019\n",
            "Epoch 54/60\n",
            "38382/38382 [==============================] - 2s 40us/sample - loss: 1.4116 - val_loss: 1.4025\n",
            "Epoch 55/60\n",
            "38382/38382 [==============================] - 2s 41us/sample - loss: 1.4108 - val_loss: 1.4015\n",
            "Epoch 56/60\n",
            "38382/38382 [==============================] - 2s 41us/sample - loss: 1.4103 - val_loss: 1.4016\n",
            "Epoch 57/60\n",
            "38382/38382 [==============================] - 2s 41us/sample - loss: 1.4095 - val_loss: 1.4010\n",
            "Epoch 58/60\n",
            "38382/38382 [==============================] - 2s 40us/sample - loss: 1.4093 - val_loss: 1.4008\n",
            "Epoch 59/60\n",
            "38382/38382 [==============================] - 2s 40us/sample - loss: 1.4088 - val_loss: 1.4006\n",
            "Epoch 60/60\n",
            "38382/38382 [==============================] - 2s 40us/sample - loss: 1.4092 - val_loss: 1.4017\n"
          ]
        }
      ],
      "source": [
        "relu_model.train()"
      ]
    },
    {
      "cell_type": "code",
      "execution_count": 14,
      "metadata": {
        "colab": {
          "base_uri": "https://localhost:8080/",
          "height": 315
        },
        "id": "K5R8HYV7cyTo",
        "outputId": "7181ecd0-2b0c-482a-a009-06339bfd342f"
      },
      "outputs": [
        {
          "output_type": "stream",
          "name": "stdout",
          "text": [
            "With a loglikelihood of: -16924.273\n",
            "Mean negative log-likelihood per event:  -1.4125928\n"
          ]
        },
        {
          "output_type": "display_data",
          "data": {
            "text/plain": [
              "<Figure size 432x288 with 1 Axes>"
            ],
            "image/png": "[encoded data removed]"
          },
          "metadata": {
            "needs_background": "light"
          }
        }
      ],
      "source": [
        "relu_model.test_intensity_numerical()\n",
        "relu_model.test_intensity_graphical(50)"
      ]
    },
    {
      "cell_type": "code",
      "execution_count": 15,
      "metadata": {
        "colab": {
          "base_uri": "https://localhost:8080/",
          "height": 353
        },
        "id": "doHc_p-jdiX4",
        "outputId": "a0d88303-49a6-4a03-d8d4-d18a9af30d34"
      },
      "outputs": [
        {
          "output_type": "stream",
          "name": "stdout",
          "text": [
            "Mean absolute error:  0.8689490827355392\n"
          ]
        },
        {
          "output_type": "stream",
          "name": "stderr",
          "text": [
            "/usr/local/lib/python3.7/dist-packages/numpy/core/_asarray.py:136: VisibleDeprecationWarning: Creating an ndarray from ragged nested sequences (which is a list-or-tuple of lists-or-tuples-or ndarrays with different lengths or shapes) is deprecated. If you meant to do this, you must specify 'dtype=object' when creating the ndarray\n",
            "  return array(a, dtype, copy=False, order=order, subok=True)\n"
          ]
        },
        {
          "output_type": "display_data",
          "data": {
            "text/plain": [
              "<Figure size 432x288 with 1 Axes>"
            ],
            "image/png": "[encoded data removed]"
          },
          "metadata": {
            "needs_background": "light"
          }
        }
      ],
      "source": [
        "relu_model.test_time_numerical()\n",
        "relu_model.test_time_graphical(50)"
      ]
    },
    {
      "cell_type": "code",
      "execution_count": 16,
      "metadata": {
        "colab": {
          "base_uri": "https://localhost:8080/"
        },
        "id": "B1PQJtSfd5FS",
        "outputId": "68b70e43-9ce0-484e-f85d-57cb9ce9d6db"
      },
      "outputs": [
        {
          "output_type": "stream",
          "name": "stderr",
          "text": [
            "WARNING:tensorflow:Output lambda_11 missing from loss dictionary. We assume this was done on purpose. The fit and evaluate APIs will not be expecting any data to be passed to lambda_11.\n",
            "WARNING:tensorflow:Output dense_11 missing from loss dictionary. We assume this was done on purpose. The fit and evaluate APIs will not be expecting any data to be passed to dense_11.\n"
          ]
        },
        {
          "output_type": "stream",
          "name": "stdout",
          "text": [
            "Train on 38383 samples, validate on 9596 samples\n",
            "Epoch 1/60\n",
            "38383/38383 [==============================] - 2s 64us/sample - loss: 2.4418 - val_loss: 1.9920\n",
            "Epoch 2/60\n",
            "38383/38383 [==============================] - 2s 42us/sample - loss: 1.7259 - val_loss: 1.5015\n",
            "Epoch 3/60\n",
            "38383/38383 [==============================] - 2s 43us/sample - loss: 1.3182 - val_loss: 1.1893\n",
            "Epoch 4/60\n",
            "38383/38383 [==============================] - 2s 41us/sample - loss: 1.1752 - val_loss: 1.1701\n",
            "Epoch 5/60\n",
            "38383/38383 [==============================] - 2s 43us/sample - loss: 1.1670 - val_loss: 1.1637\n",
            "Epoch 6/60\n",
            "38383/38383 [==============================] - 2s 44us/sample - loss: 1.1622 - val_loss: 1.1620\n",
            "Epoch 7/60\n",
            "38383/38383 [==============================] - 2s 42us/sample - loss: 1.1589 - val_loss: 1.1556\n",
            "Epoch 8/60\n",
            "38383/38383 [==============================] - 2s 43us/sample - loss: 1.1526 - val_loss: 1.1478\n",
            "Epoch 9/60\n",
            "38383/38383 [==============================] - 2s 43us/sample - loss: 1.1401 - val_loss: 1.1314\n",
            "Epoch 10/60\n",
            "38383/38383 [==============================] - 2s 43us/sample - loss: 1.1286 - val_loss: 1.1270\n",
            "Epoch 11/60\n",
            "38383/38383 [==============================] - 2s 43us/sample - loss: 1.1231 - val_loss: 1.1199\n",
            "Epoch 12/60\n",
            "38383/38383 [==============================] - 2s 43us/sample - loss: 1.1188 - val_loss: 1.1159\n",
            "Epoch 13/60\n",
            "38383/38383 [==============================] - 2s 43us/sample - loss: 1.1159 - val_loss: 1.1127\n",
            "Epoch 14/60\n",
            "38383/38383 [==============================] - 2s 41us/sample - loss: 1.1127 - val_loss: 1.1102\n",
            "Epoch 15/60\n",
            "38383/38383 [==============================] - 2s 40us/sample - loss: 1.1103 - val_loss: 1.1085\n",
            "Epoch 16/60\n",
            "38383/38383 [==============================] - 2s 40us/sample - loss: 1.1083 - val_loss: 1.1058\n",
            "Epoch 17/60\n",
            "38383/38383 [==============================] - 2s 39us/sample - loss: 1.1062 - val_loss: 1.1051\n",
            "Epoch 18/60\n",
            "38383/38383 [==============================] - 2s 40us/sample - loss: 1.1051 - val_loss: 1.1053\n",
            "Epoch 19/60\n",
            "38383/38383 [==============================] - 2s 40us/sample - loss: 1.1034 - val_loss: 1.1021\n",
            "Epoch 20/60\n",
            "38383/38383 [==============================] - 2s 42us/sample - loss: 1.1024 - val_loss: 1.1021\n",
            "Epoch 21/60\n",
            "38383/38383 [==============================] - 2s 42us/sample - loss: 1.1018 - val_loss: 1.1001\n",
            "Epoch 22/60\n",
            "38383/38383 [==============================] - 2s 41us/sample - loss: 1.1005 - val_loss: 1.0990\n",
            "Epoch 23/60\n",
            "38383/38383 [==============================] - 2s 41us/sample - loss: 1.0999 - val_loss: 1.0984\n",
            "Epoch 24/60\n",
            "38383/38383 [==============================] - 2s 43us/sample - loss: 1.0990 - val_loss: 1.0986\n",
            "Epoch 25/60\n",
            "38383/38383 [==============================] - 2s 44us/sample - loss: 1.0990 - val_loss: 1.0982\n",
            "Epoch 26/60\n",
            "38383/38383 [==============================] - 2s 56us/sample - loss: 1.0984 - val_loss: 1.0979\n",
            "Epoch 27/60\n",
            "38383/38383 [==============================] - 3s 72us/sample - loss: 1.0987 - val_loss: 1.0969\n",
            "Epoch 28/60\n",
            "38383/38383 [==============================] - 2s 58us/sample - loss: 1.0978 - val_loss: 1.0966\n",
            "Epoch 29/60\n",
            "38383/38383 [==============================] - 2s 42us/sample - loss: 1.0975 - val_loss: 1.0963\n",
            "Epoch 30/60\n",
            "38383/38383 [==============================] - 2s 40us/sample - loss: 1.0976 - val_loss: 1.0959\n",
            "Epoch 31/60\n",
            "38383/38383 [==============================] - 2s 39us/sample - loss: 1.0987 - val_loss: 1.0960\n",
            "Epoch 32/60\n",
            "38383/38383 [==============================] - 2s 43us/sample - loss: 1.0966 - val_loss: 1.0953\n",
            "Epoch 33/60\n",
            "38383/38383 [==============================] - 2s 43us/sample - loss: 1.0967 - val_loss: 1.0987\n",
            "Epoch 34/60\n",
            "38383/38383 [==============================] - 2s 43us/sample - loss: 1.0968 - val_loss: 1.0948\n",
            "Epoch 35/60\n",
            "38383/38383 [==============================] - 2s 43us/sample - loss: 1.0963 - val_loss: 1.0953\n",
            "Epoch 36/60\n",
            "38383/38383 [==============================] - 2s 43us/sample - loss: 1.0962 - val_loss: 1.0962\n",
            "Epoch 37/60\n",
            "38383/38383 [==============================] - 2s 43us/sample - loss: 1.0964 - val_loss: 1.0971\n",
            "Epoch 38/60\n",
            "38383/38383 [==============================] - 2s 46us/sample - loss: 1.0956 - val_loss: 1.0959\n",
            "Epoch 39/60\n",
            "38383/38383 [==============================] - 2s 44us/sample - loss: 1.0955 - val_loss: 1.0949\n",
            "Epoch 40/60\n",
            "38383/38383 [==============================] - 2s 43us/sample - loss: 1.0956 - val_loss: 1.0939\n",
            "Epoch 41/60\n",
            "38383/38383 [==============================] - 2s 43us/sample - loss: 1.0951 - val_loss: 1.0940\n",
            "Epoch 42/60\n",
            "38383/38383 [==============================] - 2s 43us/sample - loss: 1.0951 - val_loss: 1.0942\n",
            "Epoch 43/60\n",
            "38383/38383 [==============================] - 2s 43us/sample - loss: 1.0952 - val_loss: 1.0938\n",
            "Epoch 44/60\n",
            "38383/38383 [==============================] - 2s 44us/sample - loss: 1.0954 - val_loss: 1.0936\n",
            "Epoch 45/60\n",
            "38383/38383 [==============================] - 2s 43us/sample - loss: 1.0952 - val_loss: 1.0932\n",
            "Epoch 46/60\n",
            "38383/38383 [==============================] - 2s 43us/sample - loss: 1.0948 - val_loss: 1.0930\n",
            "Epoch 47/60\n",
            "38383/38383 [==============================] - 2s 43us/sample - loss: 1.0951 - val_loss: 1.0938\n",
            "Epoch 48/60\n",
            "38383/38383 [==============================] - 2s 43us/sample - loss: 1.0945 - val_loss: 1.0930\n",
            "Epoch 49/60\n",
            "38383/38383 [==============================] - 2s 45us/sample - loss: 1.0948 - val_loss: 1.0929\n",
            "Epoch 50/60\n",
            "38383/38383 [==============================] - 2s 44us/sample - loss: 1.0943 - val_loss: 1.0927\n",
            "Epoch 51/60\n",
            "38383/38383 [==============================] - 2s 43us/sample - loss: 1.0942 - val_loss: 1.0926\n",
            "Epoch 52/60\n",
            "38383/38383 [==============================] - 2s 43us/sample - loss: 1.0940 - val_loss: 1.0949\n",
            "Epoch 53/60\n",
            "38383/38383 [==============================] - 2s 42us/sample - loss: 1.0943 - val_loss: 1.0932\n",
            "Epoch 54/60\n",
            "38383/38383 [==============================] - 2s 43us/sample - loss: 1.0947 - val_loss: 1.0930\n",
            "Epoch 55/60\n",
            "38383/38383 [==============================] - 2s 44us/sample - loss: 1.0938 - val_loss: 1.0923\n",
            "Epoch 56/60\n",
            "38383/38383 [==============================] - 2s 45us/sample - loss: 1.0939 - val_loss: 1.0958\n",
            "Epoch 57/60\n",
            "38383/38383 [==============================] - 2s 42us/sample - loss: 1.0939 - val_loss: 1.0928\n",
            "Epoch 58/60\n",
            "38383/38383 [==============================] - 2s 41us/sample - loss: 1.0936 - val_loss: 1.0929\n",
            "Epoch 59/60\n",
            "38383/38383 [==============================] - 2s 42us/sample - loss: 1.0935 - val_loss: 1.0940\n",
            "Epoch 60/60\n",
            "38383/38383 [==============================] - 2s 40us/sample - loss: 1.0938 - val_loss: 1.0940\n"
          ]
        }
      ],
      "source": [
        "softplus_model.train()"
      ]
    },
    {
      "cell_type": "code",
      "execution_count": 17,
      "metadata": {
        "colab": {
          "base_uri": "https://localhost:8080/",
          "height": 315
        },
        "id": "ZY_U7R_bd61c",
        "outputId": "707eec35-3463-4b37-ecca-cdf41643a4c3"
      },
      "outputs": [
        {
          "output_type": "stream",
          "name": "stdout",
          "text": [
            "With a loglikelihood of: -13044.114\n",
            "Mean negative log-likelihood per event:  -1.0889151\n"
          ]
        },
        {
          "output_type": "display_data",
          "data": {
            "text/plain": [
              "<Figure size 432x288 with 1 Axes>"
            ],
            "image/png": "[encoded data removed]"
          },
          "metadata": {
            "needs_background": "light"
          }
        }
      ],
      "source": [
        "softplus_model.test_intensity_numerical()\n",
        "softplus_model.test_intensity_graphical(50)"
      ]
    },
    {
      "cell_type": "code",
      "execution_count": 18,
      "metadata": {
        "colab": {
          "base_uri": "https://localhost:8080/",
          "height": 353
        },
        "id": "8nEtF6SFd9nd",
        "outputId": "7769044e-b409-4c97-be74-66c5badc0bdf"
      },
      "outputs": [
        {
          "output_type": "stream",
          "name": "stdout",
          "text": [
            "Mean absolute error:  0.681773255639548\n"
          ]
        },
        {
          "output_type": "stream",
          "name": "stderr",
          "text": [
            "/usr/local/lib/python3.7/dist-packages/numpy/core/_asarray.py:136: VisibleDeprecationWarning: Creating an ndarray from ragged nested sequences (which is a list-or-tuple of lists-or-tuples-or ndarrays with different lengths or shapes) is deprecated. If you meant to do this, you must specify 'dtype=object' when creating the ndarray\n",
            "  return array(a, dtype, copy=False, order=order, subok=True)\n"
          ]
        },
        {
          "output_type": "display_data",
          "data": {
            "text/plain": [
              "<Figure size 432x288 with 1 Axes>"
            ],
            "image/png": "[encoded data removed]"
          },
          "metadata": {
            "needs_background": "light"
          }
        }
      ],
      "source": [
        "softplus_model.test_time_numerical()\n",
        "softplus_model.test_time_graphical(50)"
      ]
    }
  ],
  "metadata": {
    "accelerator": "GPU",
    "colab": {
      "collapsed_sections": [],
      "provenance": []
    },
    "kernelspec": {
      "display_name": "Python 3",
      "name": "python3"
    },
    "language_info": {
      "name": "python"
    }
  },
  "nbformat": 4,
  "nbformat_minor": 0
}